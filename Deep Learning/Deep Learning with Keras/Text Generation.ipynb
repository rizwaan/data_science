{
 "cells": [
  {
   "cell_type": "markdown",
   "metadata": {},
   "source": [
    "# Objective : Train a NN on \"Alice in Wonderland\" to generate text "
   ]
  },
  {
   "cell_type": "markdown",
   "metadata": {},
   "source": [
    "### Character level RNN for text generation"
   ]
  },
  {
   "cell_type": "markdown",
   "metadata": {},
   "source": [
    "### 1. Package Mangement"
   ]
  },
  {
   "cell_type": "code",
   "execution_count": 194,
   "metadata": {
    "collapsed": true
   },
   "outputs": [],
   "source": [
    "from keras.layers import Dense, Activation, SimpleRNN, Flatten"
   ]
  },
  {
   "cell_type": "code",
   "execution_count": 21,
   "metadata": {
    "collapsed": true
   },
   "outputs": [],
   "source": [
    "from keras.models import Sequential"
   ]
  },
  {
   "cell_type": "code",
   "execution_count": 103,
   "metadata": {
    "collapsed": true
   },
   "outputs": [],
   "source": [
    "from keras.utils.vis_utils import plot_model ## Recently renamed from plot to plot_model."
   ]
  },
  {
   "cell_type": "code",
   "execution_count": 104,
   "metadata": {
    "collapsed": true
   },
   "outputs": [],
   "source": [
    "import numpy as np"
   ]
  },
  {
   "cell_type": "markdown",
   "metadata": {},
   "source": [
    "### 2. Data Processing\n",
    "Load the data and get rid of line breaks etc"
   ]
  },
  {
   "cell_type": "code",
   "execution_count": 76,
   "metadata": {
    "collapsed": true
   },
   "outputs": [],
   "source": [
    "fin=open(\"./data/alice.txt\",'rb')\n",
    "\n",
    "# Preprocessing\n",
    "\n",
    "lines=[]\n",
    "for line in fin:\n",
    "    line=line.strip().lower()\n",
    "    line= line.decode('ascii','ignore')\n",
    "    if len(line)==0:\n",
    "        continue\n",
    "    lines.append(line)\n",
    "   \n",
    "fin.close()\n",
    "text=\" \".join(lines) ## Returns a character sequence\n"
   ]
  },
  {
   "cell_type": "markdown",
   "metadata": {},
   "source": [
    "Lets check a sample from the data"
   ]
  },
  {
   "cell_type": "code",
   "execution_count": 216,
   "metadata": {},
   "outputs": [
    {
     "data": {
      "text/plain": [
       "['project gutenbergs alices adventures in wonderland, by lewis carroll',\n",
       " 'this ebook is for the use of anyone anywhere at no cost and with',\n",
       " 'almost no restrictions whatsoever.  you may copy it, give it away or',\n",
       " 're-use it under the terms of the project gutenberg license included',\n",
       " 'with this ebook or online at www.gutenberg.org',\n",
       " 'title: alices adventures in wonderland',\n",
       " 'author: lewis carroll',\n",
       " 'posting date: june 25, 2008 [ebook #11]',\n",
       " 'release date: march, 1994',\n",
       " 'last updated: october 6, 2016',\n",
       " 'language: english',\n",
       " 'character set encoding: utf-8',\n",
       " '*** start of this project gutenberg ebook alices adventures in wonderland ***',\n",
       " 'alices adventures in wonderland',\n",
       " 'lewis carroll',\n",
       " 'the millennium fulcrum edition 3.0',\n",
       " 'chapter i. down the rabbit-hole',\n",
       " 'alice was beginning to get very tired of sitting by her sister on the',\n",
       " 'bank, and of having nothing to do: once or twice she had peeped into the',\n",
       " 'book her sister was reading, but it had no pictures or conversations in']"
      ]
     },
     "execution_count": 216,
     "metadata": {},
     "output_type": "execute_result"
    }
   ],
   "source": [
    "lines[:20]"
   ]
  },
  {
   "cell_type": "code",
   "execution_count": 79,
   "metadata": {},
   "outputs": [
    {
     "data": {
      "text/plain": [
       "'project gutenbergs alices adventures in wonderland, by lewis carroll this ebook is for the use of anyone anywhere at no cost and with almost no restrictions whatsoever.  you may copy it, give it away or re-use it under the terms of the project gutenberg license included with this ebook or online at www.gutenberg.org title: alices adventures in wonderland author: lewis carroll posting date: june 25, 2008 [ebook #11] release date: march, 1994 last updated: october 6, 2016 language: english character set encoding: utf-8 *** start of this project gutenberg ebook alices adventures in wonderland *** alices adventures in wonderland lewis carroll the millennium fulcrum edition 3.0 chapter i. down the rabbit-hole alice was beginning to get very tired of sitting by her sister on the bank, and of having nothing to do: once or twice she had peeped into the book her sister was reading, but it had no pictures or conversations in it, and what is the use of a book, thought alice without pictures or conversations? so she was considering in her own mind (as well as she could, for the hot day made her feel very sleepy and stupid), whether the pleasure of making a daisy-chain would be worth the trouble of getting up and picking the daisies, when suddenly a white rabbit with pink eyes ran close by her. there was nothing so very remarkable in that; nor did alice think it so very much out of the way to hear the rabbit say to itself, oh dear! oh dear! i shall be late! (when she thought it over afterwards, it occurred to her that she ought to have wondered at this, but at the time it all seemed quite natural); but when the rabbit actually took a watch out of its waistcoat-pocket, and looked at it, and then hurried on, alice started to her feet, for it flashed across her mind that she had never before seen a rabbit with either a waistcoat-pocket, or a watch to take out of it, and burning with curiosity, she ran across the field after it, and fortunately was just in time to see it pop down a '"
      ]
     },
     "execution_count": 79,
     "metadata": {},
     "output_type": "execute_result"
    }
   ],
   "source": [
    "text[:2000] ## Char sequence"
   ]
  },
  {
   "cell_type": "markdown",
   "metadata": {},
   "source": [
    "Note that text is a char sequence while lines is an array"
   ]
  },
  {
   "cell_type": "code",
   "execution_count": 80,
   "metadata": {},
   "outputs": [
    {
     "data": {
      "text/plain": [
       "str"
      ]
     },
     "execution_count": 80,
     "metadata": {},
     "output_type": "execute_result"
    }
   ],
   "source": [
    "type(text)"
   ]
  },
  {
   "cell_type": "code",
   "execution_count": 81,
   "metadata": {},
   "outputs": [
    {
     "data": {
      "text/plain": [
       "list"
      ]
     },
     "execution_count": 81,
     "metadata": {},
     "output_type": "execute_result"
    }
   ],
   "source": [
    "type(lines)"
   ]
  },
  {
   "cell_type": "markdown",
   "metadata": {},
   "source": [
    "### 3. Build Vocabulary\n",
    "\n",
    "For Char level RNNs we need to build a list of all characters present in the text\n",
    "Next up we create look up tables with numbers assigned to each character. "
   ]
  },
  {
   "cell_type": "code",
   "execution_count": 210,
   "metadata": {},
   "outputs": [
    {
     "data": {
      "text/plain": [
       "55"
      ]
     },
     "execution_count": 210,
     "metadata": {},
     "output_type": "execute_result"
    }
   ],
   "source": [
    "# Create list of chars in the text\n",
    "\n",
    "chars=set([c for c in text])\n",
    "## Get the number of unique chars in vocab\n",
    "num_chars=len(chars)\n",
    "num_chars"
   ]
  },
  {
   "cell_type": "code",
   "execution_count": 90,
   "metadata": {},
   "outputs": [
    {
     "name": "stdout",
     "output_type": "stream",
     "text": [
      "{'_', '5', 'f', '9', ')', '-', 'h', '4', ';', '/', 'c', '.', ' ', 'm', 'l', '0', '7', '1', '8', '!', 'g', 'e', 'j', 'q', 'z', 'b', '#', '%', 'w', '3', '(', 'k', 't', 's', ']', ',', 'd', 'u', 'i', ':', '[', '6', 'r', 'v', '*', '$', 'x', '2', 'y', '@', 'a', '?', 'p', 'n', 'o'}\n"
     ]
    }
   ],
   "source": [
    "print(chars)"
   ]
  },
  {
   "cell_type": "code",
   "execution_count": 93,
   "metadata": {},
   "outputs": [
    {
     "name": "stdout",
     "output_type": "stream",
     "text": [
      "{'_': 0, '5': 1, 'f': 2, '9': 3, ')': 4, '-': 5, 'h': 6, '4': 7, ';': 8, '/': 9, 'c': 10, '.': 11, ' ': 12, 'm': 13, 'l': 14, '0': 15, '7': 16, '1': 17, '8': 18, '!': 19, 'g': 20, 'e': 21, 'j': 22, 'q': 23, 'z': 24, 'b': 25, '#': 26, '%': 27, 'w': 28, '3': 29, '(': 30, 'k': 31, 't': 32, 's': 33, ']': 34, ',': 35, 'd': 36, 'u': 37, 'i': 38, ':': 39, '[': 40, '6': 41, 'r': 42, 'v': 43, '*': 44, '$': 45, 'x': 46, '2': 47, 'y': 48, '@': 49, 'a': 50, '?': 51, 'p': 52, 'n': 53, 'o': 54}\n"
     ]
    }
   ],
   "source": [
    "# Char to Index vocab\n",
    "char2index={c:i for i,c in enumerate(chars)}\n",
    "print(char2index)"
   ]
  },
  {
   "cell_type": "code",
   "execution_count": 94,
   "metadata": {},
   "outputs": [
    {
     "name": "stdout",
     "output_type": "stream",
     "text": [
      "{0: '_', 1: '5', 2: 'f', 3: '9', 4: ')', 5: '-', 6: 'h', 7: '4', 8: ';', 9: '/', 10: 'c', 11: '.', 12: ' ', 13: 'm', 14: 'l', 15: '0', 16: '7', 17: '1', 18: '8', 19: '!', 20: 'g', 21: 'e', 22: 'j', 23: 'q', 24: 'z', 25: 'b', 26: '#', 27: '%', 28: 'w', 29: '3', 30: '(', 31: 'k', 32: 't', 33: 's', 34: ']', 35: ',', 36: 'd', 37: 'u', 38: 'i', 39: ':', 40: '[', 41: '6', 42: 'r', 43: 'v', 44: '*', 45: '$', 46: 'x', 47: '2', 48: 'y', 49: '@', 50: 'a', 51: '?', 52: 'p', 53: 'n', 54: 'o'}\n"
     ]
    }
   ],
   "source": [
    "#index to char vocab\n",
    "\n",
    "index2char={i:c for i,c in enumerate(chars)}\n",
    "print(index2char)"
   ]
  },
  {
   "cell_type": "markdown",
   "metadata": {},
   "source": [
    "### 4. Create input and target text\n"
   ]
  },
  {
   "cell_type": "raw",
   "metadata": {},
   "source": [
    "The network will be predicting one character at a time from a sequence.\n",
    "E.g 'The cat got the rat' with params $step =1 and $seqlen=10 becomes..\n",
    "\n",
    "\n",
    "IP         - Label\n",
    "The cat go -> t\n",
    "he cat got -> ' '\n",
    "e cat got  -> t\n",
    " cat got t -> h\n",
    "cat got th -> e\n",
    "at got the -> ' '\n",
    "t got the  -> r\n"
   ]
  },
  {
   "cell_type": "code",
   "execution_count": 100,
   "metadata": {},
   "outputs": [
    {
     "name": "stdout",
     "output_type": "stream",
     "text": [
      "Creating Input and label text\n"
     ]
    }
   ],
   "source": [
    "# Define params\n",
    "\n",
    "print(\"Creating Input and label text\")\n",
    "SEQLEN = 10\n",
    "STEP = 1\n",
    "\n",
    "input_chars=[]\n",
    "label_chars=[]\n",
    "\n",
    "for i in range(0,len(text)-SEQLEN, STEP):\n",
    "    input_chars.append(text[i:i+SEQLEN])\n",
    "    label_chars.append(text[i+SEQLEN])\n",
    "    \n"
   ]
  },
  {
   "cell_type": "code",
   "execution_count": 101,
   "metadata": {},
   "outputs": [
    {
     "data": {
      "text/plain": [
       "['project gu',\n",
       " 'roject gut',\n",
       " 'oject gute',\n",
       " 'ject guten',\n",
       " 'ect gutenb',\n",
       " 'ct gutenbe',\n",
       " 't gutenber',\n",
       " ' gutenberg',\n",
       " 'gutenbergs',\n",
       " 'utenbergs ',\n",
       " 'tenbergs a',\n",
       " 'enbergs al',\n",
       " 'nbergs ali',\n",
       " 'bergs alic',\n",
       " 'ergs alice',\n",
       " 'rgs alices',\n",
       " 'gs alices ',\n",
       " 's alices a',\n",
       " ' alices ad',\n",
       " 'alices adv']"
      ]
     },
     "execution_count": 101,
     "metadata": {},
     "output_type": "execute_result"
    }
   ],
   "source": [
    "input_chars[:20]"
   ]
  },
  {
   "cell_type": "code",
   "execution_count": 102,
   "metadata": {},
   "outputs": [
    {
     "data": {
      "text/plain": [
       "['t',\n",
       " 'e',\n",
       " 'n',\n",
       " 'b',\n",
       " 'e',\n",
       " 'r',\n",
       " 'g',\n",
       " 's',\n",
       " ' ',\n",
       " 'a',\n",
       " 'l',\n",
       " 'i',\n",
       " 'c',\n",
       " 'e',\n",
       " 's',\n",
       " ' ',\n",
       " 'a',\n",
       " 'd',\n",
       " 'v',\n",
       " 'e']"
      ]
     },
     "execution_count": 102,
     "metadata": {},
     "output_type": "execute_result"
    }
   ],
   "source": [
    "label_chars[:20]"
   ]
  },
  {
   "cell_type": "code",
   "execution_count": 113,
   "metadata": {},
   "outputs": [
    {
     "data": {
      "text/plain": [
       "True"
      ]
     },
     "execution_count": 113,
     "metadata": {},
     "output_type": "execute_result"
    }
   ],
   "source": [
    "## Both these char vectors are of equal size\n",
    "\n",
    "len(input_chars)==len(label_chars)"
   ]
  },
  {
   "cell_type": "markdown",
   "metadata": {},
   "source": [
    "### 5. Vectorize the input and label chars "
   ]
  },
  {
   "cell_type": "code",
   "execution_count": 211,
   "metadata": {},
   "outputs": [
    {
     "name": "stdout",
     "output_type": "stream",
     "text": [
      "###Vectorizing Input chars####\n",
      " \n",
      "Input Sample \n",
      "[[[False False False ..., False False False]\n",
      "  [False False False ..., False False False]\n",
      "  [False False False ..., False False False]\n",
      "  ..., \n",
      "  [False False False ..., False False False]\n",
      "  [False False False ..., False False False]\n",
      "  [False False False ..., False False False]]\n",
      "\n",
      " [[False False False ..., False False False]\n",
      "  [False False False ..., False False False]\n",
      "  [False False False ..., False False False]\n",
      "  ..., \n",
      "  [False False False ..., False False False]\n",
      "  [False False False ..., False False False]\n",
      "  [False False False ..., False False False]]]\n"
     ]
    }
   ],
   "source": [
    "print(\"###Vectorizing Input chars####\")\n",
    "\n",
    "print(\" \\nInput Sample \")\n",
    "# Input size\n",
    "# Total no of rows in input , size of each row = SEQLEN, Each char represented as a one hot encoding of the vocab size = num_chars\n",
    "x= np.zeros((len(input_chars),SEQLEN,num_chars),dtype=np.bool)\n",
    "print(x[:2]) # Sample"
   ]
  },
  {
   "cell_type": "code",
   "execution_count": 212,
   "metadata": {},
   "outputs": [
    {
     "name": "stdout",
     "output_type": "stream",
     "text": [
      "\n",
      " Output Sample\n"
     ]
    },
    {
     "data": {
      "text/plain": [
       "(158773, 55)"
      ]
     },
     "execution_count": 212,
     "metadata": {},
     "output_type": "execute_result"
    }
   ],
   "source": [
    "print (\"\\n Output Sample\")\n",
    "\n",
    "# label\\target\\output size = No of rows in output(len(label_chars))  , encoding size = num of chars\n",
    "\n",
    "y = np.zeros((len(label_chars), num_chars),dtype=np.bool)\n",
    "y.shape"
   ]
  },
  {
   "cell_type": "code",
   "execution_count": 205,
   "metadata": {},
   "outputs": [
    {
     "name": "stdout",
     "output_type": "stream",
     "text": [
      "Vectorizing the input now...\n",
      "Vectorization Done\n"
     ]
    }
   ],
   "source": [
    "print(\"Vectorizing the input now...\")\n",
    "\n",
    "for i, input_char in enumerate(input_chars):\n",
    "    for j, ch in enumerate(input_char):\n",
    "        x[i, j, char2index[ch]] = 1\n",
    "    y[i, char2index[label_chars[i]]] = 1\n",
    "    \n",
    "print(\"Vectorization Done\")"
   ]
  },
  {
   "cell_type": "code",
   "execution_count": 147,
   "metadata": {},
   "outputs": [
    {
     "name": "stdout",
     "output_type": "stream",
     "text": [
      "[[False False False False False False False False False False False False\n",
      "  False False False False False False False False False False False False\n",
      "  False False False False False False False False False False False False\n",
      "  False False False False False False  True False False False False False\n",
      "  False False False False False False False]\n",
      " [False False False False False False False False False False False False\n",
      "  False False False False False False False False False False False False\n",
      "  False False False False False False False False False False False False\n",
      "  False False False False False False False False False False False False\n",
      "  False False False False False False  True]\n",
      " [False False False False False False False False False False False False\n",
      "  False False False False False False False False False False  True False\n",
      "  False False False False False False False False False False False False\n",
      "  False False False False False False False False False False False False\n",
      "  False False False False False False False]\n",
      " [False False False False False False False False False False False False\n",
      "  False False False False False False False False False  True False False\n",
      "  False False False False False False False False False False False False\n",
      "  False False False False False False False False False False False False\n",
      "  False False False False False False False]\n",
      " [False False False False False False False False False False  True False\n",
      "  False False False False False False False False False False False False\n",
      "  False False False False False False False False False False False False\n",
      "  False False False False False False False False False False False False\n",
      "  False False False False False False False]\n",
      " [False False False False False False False False False False False False\n",
      "  False False False False False False False False False False False False\n",
      "  False False False False False False False False  True False False False\n",
      "  False False False False False False False False False False False False\n",
      "  False False False False False False False]\n",
      " [False False False False False False False False False False False False\n",
      "   True False False False False False False False False False False False\n",
      "  False False False False False False False False False False False False\n",
      "  False False False False False False False False False False False False\n",
      "  False False False False False False False]\n",
      " [False False False False False False False False False False False False\n",
      "  False False False False False False False False  True False False False\n",
      "  False False False False False False False False False False False False\n",
      "  False False False False False False False False False False False False\n",
      "  False False False False False False False]\n",
      " [False False False False False False False False False False False False\n",
      "  False False False False False False False False False False False False\n",
      "  False False False False False False False False False False False False\n",
      "  False  True False False False False False False False False False False\n",
      "  False False False False False False False]\n",
      " [False False False False False False False False False False False False\n",
      "  False False False False False False False False False False False False\n",
      "  False False False False False False False False  True False False False\n",
      "  False False False False False False False False False False False False\n",
      "  False False False False False False False]]\n"
     ]
    }
   ],
   "source": [
    "# View a sample row\n",
    "print(x[1])"
   ]
  },
  {
   "cell_type": "code",
   "execution_count": 140,
   "metadata": {},
   "outputs": [
    {
     "data": {
      "text/plain": [
       "(158773, 10, 55)"
      ]
     },
     "execution_count": 140,
     "metadata": {},
     "output_type": "execute_result"
    }
   ],
   "source": [
    "x.shape"
   ]
  },
  {
   "cell_type": "markdown",
   "metadata": {},
   "source": [
    "### 6. Build the RNN"
   ]
  },
  {
   "cell_type": "code",
   "execution_count": 191,
   "metadata": {
    "collapsed": true
   },
   "outputs": [],
   "source": [
    "# Model structure and  parameters\n",
    "\n",
    "# RNN Layer Output size\n",
    "HIDDEN_SIZE=128\n",
    "\n",
    "BATCH_SIZE= 128\n",
    "NUM_ITERATIONS=25\n",
    "NUM_EPOCHS_PER_ITERATION=1\n",
    "NUM_PREDS_PER_EPOCH=100"
   ]
  },
  {
   "cell_type": "code",
   "execution_count": 213,
   "metadata": {
    "collapsed": true
   },
   "outputs": [],
   "source": [
    "# Actual model construction starts here\n",
    "\n",
    "model=Sequential()\n",
    "\n",
    "# Add layers\n",
    "\n",
    "#RNN -> No of Cells, Will the op be a seq or a single char, input shape , unroll -> performance benefit on tensorflow\n",
    "model.add(SimpleRNN(HIDDEN_SIZE,return_sequences=False,input_shape=(SEQLEN,num_chars),unroll=True))\n",
    "          \n",
    "    \n",
    "    \n",
    "# Fully connected layer with size info          \n",
    "model.add(Dense(num_chars))\n",
    "          \n",
    "# Softmax actication for classification          \n",
    "model.add(Activation('softmax'))\n",
    "          \n",
    "# Define loss func and optimizer          \n",
    "model.compile(loss='categorical_crossentropy', optimizer='rmsprop')"
   ]
  },
  {
   "cell_type": "markdown",
   "metadata": {},
   "source": [
    "### 7. Train the Model"
   ]
  },
  {
   "cell_type": "code",
   "execution_count": 215,
   "metadata": {},
   "outputs": [
    {
     "name": "stdout",
     "output_type": "stream",
     "text": [
      "**************************************************\n",
      "Iteration Num : 0\n",
      "Epoch 1/1\n",
      "158773/158773 [==============================] - 21s - loss: 0.0000e+00    \n",
      "Generating from seed --> ut a great\n",
      "ut a great-k, .vx24d@2e:)cbx)eqx20*-7*n6gq,f.bxv48:2,%)x(88@af65-d7*n:.sm2yv4z:bb,1$[$;x)38q7fnzc(/:%,1)hu9-95**************************************************\n",
      "Iteration Num : 1\n",
      "Epoch 1/1\n",
      "158773/158773 [==============================] - 21s - loss: 0.0000e+00    \n",
      "Generating from seed --> you may do\n",
      "you may do5%$:88x2-f*v9:ms[std0969z[bqiesfn;go7*6uy2 c.t1%)*1xxo1-6@e,)2ko2j/66s42hn-r3k.ss46v;[:5be48h@2-%)1]**************************************************\n",
      "Iteration Num : 2\n",
      "Epoch 1/1\n",
      "158773/158773 [==============================] - 22s - loss: 0.0000e+00    \n",
      "Generating from seed --> le was a p\n",
      "le was a p5:5o9#xd-2?%fnk%q1v6u0d7u6n(]7xn#/x%th;sz.z9,/i-5f5kovw8:c,?$q14)h0q7xo9?,/p%td-eresf2q,vo;ysmwr?,c***************************************************\n",
      "Iteration Num : 3\n",
      "Epoch 1/1\n",
      "158773/158773 [==============================] - 22s - loss: 0.0000e+00    \n",
      "Generating from seed --> oject gute\n",
      "oject gute/ %#p5k*v7n:%-%n:5smfbv48.%0,8p@;sawth)*-%n:5s/[hv-r %.2j%)95q-#xet2jkbskgiv7xzrb/ql;;;:oy#6g92#0u7s**************************************************\n",
      "Iteration Num : 4\n",
      "Epoch 1/1\n",
      "158773/158773 [==============================] - 23s - loss: 0.0000e+00    \n",
      "Generating from seed -->  stay with\n",
      " stay with00*#z:](i[efq:a805h@zcdt$8,%.gx(q8 %f@-;dl5%n[cb%/1awrrb-ri4]]2yf2b%7o16d03x?aq!k)#89zxs4h@9[:)1]);5**************************************************\n",
      "Iteration Num : 5\n",
      "Epoch 1/1\n",
      "158773/158773 [==============================] - 23s - loss: 0.0000e+00    \n",
      "Generating from seed --> yer honour\n",
      "yer honour-r4)4$q7*pz8o@i-,4)*7x.h!uq4#5%-%4:5s[fov0;esa2#0m6e[)*4)4]/xh,-gnxdt2?#)xeqqqq-i$vv4:$;3mla%j/ch/ch**************************************************\n",
      "Iteration Num : 6\n",
      "Epoch 1/1\n",
      "158773/158773 [==============================] - 23s - loss: 0.0000e+00    \n",
      "Generating from seed --> her a hard\n",
      "her a hard4)*-95me4.bt$/.,0u(o#c@t$i)5.2to$#88p.o7hn-c#%c7s]4)[%6ie,j*7*n-%k/3k_m54z9tm5-.#x]t2!0u6-%)@1enero2**************************************************\n",
      "Iteration Num : 7\n",
      "Epoch 1/1\n",
      "158773/158773 [==============================] - 23s - loss: 0.0000e+00    \n",
      "Generating from seed --> he said in\n",
      "he said in5%)#8q-[ %q/co%f5bov#5:$r38xr-4]b2?f@(d#)38.x[f2-5f;s%f$#88#%fnzcoyy7s0.g[:a%gb,q%[$9-/3pbpmh0l7#4nx**************************************************\n",
      "Iteration Num : 8\n",
      "Epoch 1/1\n",
      "158773/158773 [==============================] - 22s - loss: 0.0000e+00    \n",
      "Generating from seed -->  answer? i\n",
      " answer? i2]02bo2#0*7*4)h;/n!bp5h[)7v#8e%r:7@z[;%w*pbz:bsw7x)48#5e,tb78?.cme:v4z;/x%f2e.ztu/! gflo%j/3p/#5#wch**************************************************\n",
      "Iteration Num : 9\n",
      "Epoch 1/1\n",
      "158773/158773 [==============================] - 22s - loss: 0.0000e+00    \n",
      "Generating from seed --> cries to t\n",
      "cries to t%d5bbq8gx7-248f2efobb8)p.f2b%88_x7o2jk)s8qi.o:o-u$%jl1anpbo2im_xs#280x;u4)952!0*7x[zhuer3,1a[;kb/0at**************************************************\n",
      "Iteration Num : 10\n",
      "Epoch 1/1\n",
      "158773/158773 [==============================] - 22s - loss: 0.0000e+00    \n",
      "Generating from seed -->  right way\n",
      " right way:hbi-gj:*s]4q*4:5-,[;d4,mw9.bs1.hm-r)4f5-.,ovf9enkbb/y%s)7hq-g#bse1]0u;y3*-r44);-,/p;;s[fdv@(:_x8#yx**************************************************\n",
      "Iteration Num : 11\n",
      "Epoch 1/1\n",
      "158773/158773 [==============================] - 22s - loss: 0.0000e+00    \n",
      "Generating from seed --> he picked \n",
      "he picked $%)m4#xv62-@@b]$1.oxvo2e%obb/2$.x7x20c7s[h7x),c%ne]uxh/-:afnkcowv6epbhbl.o;psm_)18#ogbxhmh49z(k83mi7**************************************************\n",
      "Iteration Num : 12\n",
      "Epoch 1/1\n",
      "158773/158773 [==============================] - 23s - loss: 0.0000e+00    \n",
      "Generating from seed --> nd making \n",
      "nd making 5-.#7x]02#)lb%ni8(:.ogfvc[f@vw8p_xd#hm])*7x50$#8,ch;*4)4)*4qn)mu/466:2,:ps[sqq##mete:$c7%gnk#/e %f5o**************************************************\n",
      "Iteration Num : 13\n",
      "Epoch 1/1\n",
      "158773/158773 [==============================] - 25s - loss: 0.0000e+00    \n",
      "Generating from seed -->  that love\n",
      " that lovexrekq5k$6w80:b@ih0ur#z5-li7(er38qli;;[sfnvgne:psy2yc$#1%n$#x%co-:]:5)[)q!q8fo-@$/p%__8oov@(e.p88ch $**************************************************\n",
      "Iteration Num : 14\n",
      "Epoch 1/1\n",
      "158773/158773 [==============================] - 21s - loss: 0.0000e+00    \n",
      "Generating from seed --> hatter. no\n",
      "hatter. no-o;bskb51$#xd02-@y7!%[hmdr3,l$/$kbibi(p_s8hxhm-r9,1][;[b/3hmpq-25%.60qt[-%nebo% mfo5#$upbbuiw(])2bq7**************************************************\n",
      "Iteration Num : 15\n",
      "Epoch 1/1\n",
      "158773/158773 [==============================] - 21s - loss: 0.0000e+00    \n",
      "Generating from seed --> lly have n\n",
      "lly have n*5b5k*c])xh48q%)mzq;4o9v6jp6?,/1anxek2-a)#5%o.b(8.@,$.x(c.t$/1an-r#-.gs,q.gy9#-uy7x)[c%n);80_,)3q8sm**************************************************\n",
      "Iteration Num : 16\n",
      "Epoch 1/1\n",
      "158773/158773 [==============================] - 21s - loss: 0.0000e+00    \n",
      "Generating from seed --> r the term\n",
      "r the term?7*nr:6s,[)9-/ne5)2hn)xd48*lx4#h@-)#p9do2v$9e%7q-qyf0%o;;sjn9#me(%_$8.%[f-o5b-%n_8d-[nfq(_bs8qq4)x50**************************************************\n",
      "Iteration Num : 17\n",
      "Epoch 1/1\n",
      "158773/158773 [==============================] - 21s - loss: 0.0000e+00    \n",
      "Generating from seed --> twenty-fou\n",
      "twenty-foug]0d#48hnx@,cit)[)x_xd_qrazekqikpv0l62$k*x(_2?#x9ed-]4n!%o/#6ep)hn9-o/v6/p,hu9r3c:5b]6h!tg9-neex)2kq**************************************************\n",
      "Iteration Num : 18\n",
      "Epoch 1/1\n",
      "158773/158773 [==============================] - 21s - loss: 0.0000e+00    \n",
      "Generating from seed --> and they d\n",
      "and they d21-%;d#)2-0*7xg2,q*4yx@(k#)ep$2#0*67vf(-%neq%_ dgo9#6upuj-ll%c%fb-1]ex)*2qnf;k3ovv6e$b#8p@%f5z-#7*n(**************************************************\n",
      "Iteration Num : 19\n",
      "Epoch 1/1\n",
      "158773/158773 [==============================] - 21s - loss: 0.0000e+00    \n",
      "Generating from seed --> the tide r\n",
      "the tide rqk* -7]:2?nf%o%#m80_#@9wsk1#7g6s[[h4yy;ssa1][)*-%nesk_[m_xv88e5m]495%g6?!tm/0*4)u260*l)1]/xe,)q7*n-%**************************************************\n",
      "Iteration Num : 20\n",
      "Epoch 1/1\n",
      "158773/158773 [==============================] - 21s - loss: 0.0000e+00    \n",
      "Generating from seed --> ud. thinki\n",
      "ud. thinkip-_$o.bxv4_j%0u8@(i5p(p7hqgf0q8fyx@*1p?tg!xq# @7xv48:2ef)boq7s0s#486c[thne:pbo2bov4sj%9#88_.@y4s)1-9**************************************************\n",
      "Iteration Num : 21\n",
      "Epoch 1/1\n",
      "158773/158773 [==============================] - 21s - loss: 0.0000e+00    \n",
      "Generating from seed -->  had now h\n",
      " had now h sbx20-:]eh)*v#ne%)/4an;5o-,n)x]42?a2be:o.q7gfs#w8pbj*iq0u0om4)h46n!0:*-]4)*4,n2d0*p70)#qqne%oi4(:n2**************************************************\n",
      "Iteration Num : 22\n",
      "Epoch 1/1\n",
      "158773/158773 [==============================] - 21s - loss: 0.0000e+00    \n",
      "Generating from seed --> puter code\n",
      "puter code7*nk%)/cht)9#b-]$26fn2%#7x]tycg-.?,f)x5/.#7u:h@ir3k.7,5k(#8_x0.iyy])*4gn;:xs,yxv49-%r9-%r[;%o/,6js)h**************************************************\n",
      "Iteration Num : 23\n",
      "Epoch 1/1\n",
      "158773/158773 [==============================] - 22s - loss: 0.0000e+00    \n",
      "Generating from seed -->  money (if\n",
      " money (if5o$#880l0qh)9)q8f5bo-ov:n:_bq8#xc7*j%4n);5/x6o-:*e])2k/-]/x52-:o7]6-[4f5%.,jpj9jn1]x;gfsmfv4n:c?%fnc**************************************************\n",
      "Iteration Num : 24\n",
      "Epoch 1/1\n",
      "158773/158773 [==============================] - 21s - loss: 0.0000e+00    \n",
      "Generating from seed --> alice coul\n",
      "alice coul]0d7x2k!*v,4);5/$#x)#h@i7v)ryyx-3$;,[);b/8psff2qf#b%80ciyyk)#.g6g67*n 7oehm%4d4;/xu,80[7@!h)*)*7xg2?"
     ]
    }
   ],
   "source": [
    "# Train the model on every iteration and also test it.. We do this since we dont have any labeled data\n",
    "\n",
    "for iteration in range(NUM_ITERATIONS):\n",
    "    # Train\n",
    "    print(\"*\"*50)\n",
    "    print(\"Iteration Num : %d\" % (iteration))\n",
    "    \n",
    "    model.fit(x,y,batch_size=BATCH_SIZE,epochs=NUM_EPOCHS_PER_ITERATION)\n",
    "    \n",
    "    ### Test\n",
    "    ## CHoose a random row from input_chars; use it to predict next 100 chars\n",
    "    \n",
    "    test_idx=np.random.randint(len(input_chars))\n",
    "    seed_chars=input_chars[test_idx]\n",
    "    print(\"Generating from seed --> %s\" % (seed_chars))\n",
    "    print(seed_chars,end=\"\")\n",
    "    \n",
    "    \n",
    "    for i in range(NUM_PREDS_PER_EPOCH):\n",
    "        xtest=np.zeros((1,SEQLEN,num_chars))\n",
    "        for i,c in enumerate(seed_chars):\n",
    "            xtest[0,i,char2index[c]]=1\n",
    "        pred= model.predict(xtest,verbose=0)[0]\n",
    "        ypred=index2char[np.argmax(pred)]\n",
    "        print(ypred,end='')\n",
    "        \n",
    "        # Move forward\n",
    "        seed_chars=seed_chars[1:]+ypred"
   ]
  }
 ],
 "metadata": {
  "kernelspec": {
   "display_name": "Python 3",
   "language": "python",
   "name": "python3"
  },
  "language_info": {
   "codemirror_mode": {
    "name": "ipython",
    "version": 3
   },
   "file_extension": ".py",
   "mimetype": "text/x-python",
   "name": "python",
   "nbconvert_exporter": "python",
   "pygments_lexer": "ipython3",
   "version": "3.6.2"
  }
 },
 "nbformat": 4,
 "nbformat_minor": 2
}
